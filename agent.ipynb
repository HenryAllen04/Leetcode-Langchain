{
 "cells": [
  {
   "cell_type": "code",
   "execution_count": 1,
   "id": "961a79ba",
   "metadata": {},
   "outputs": [
    {
     "name": "stdout",
     "output_type": "stream",
     "text": [
      "zsh:1: no matches found: langchain[openai]\n",
      "Note: you may need to restart the kernel to use updated packages.\n",
      "Note: you may need to restart the kernel to use updated packages.\n"
     ]
    }
   ],
   "source": [
    "%pip install -U langgraph langchain-tavily langgraph-checkpoint-sqlite python-dotenv langchain[openai]\n",
    "%pip install -qU \"langchain[openai]\""
   ]
  },
  {
   "cell_type": "code",
   "execution_count": 2,
   "id": "1f9147f7",
   "metadata": {},
   "outputs": [],
   "source": [
    "import os\n",
    "from dotenv import load_dotenv\n",
    "\n",
    "load_dotenv()\n",
    "\n",
    "os.environ[\"LANGSMITH_TRACING\"] = \"true\"\n"
   ]
  },
  {
   "cell_type": "markdown",
   "id": "778f2d1e",
   "metadata": {},
   "source": [
    "## Define a Search Tool"
   ]
  },
  {
   "cell_type": "code",
   "execution_count": 3,
   "id": "e9c9734a",
   "metadata": {},
   "outputs": [
    {
     "name": "stdout",
     "output_type": "stream",
     "text": [
      "{'query': 'What is the weather in SF', 'follow_up_questions': None, 'answer': None, 'images': [], 'results': [{'title': 'Weather in San Francisco', 'url': 'https://www.weatherapi.com/', 'content': \"{'location': {'name': 'San Francisco', 'region': 'California', 'country': 'United States of America', 'lat': 37.775, 'lon': -122.4183, 'tz_id': 'America/Los_Angeles', 'localtime_epoch': 1757509126, 'localtime': '2025-09-10 05:58'}, 'current': {'last_updated_epoch': 1757508300, 'last_updated': '2025-09-10 05:45', 'temp_c': 17.8, 'temp_f': 64.0, 'is_day': 0, 'condition': {'text': 'Partly cloudy', 'icon': '//cdn.weatherapi.com/weather/64x64/night/116.png', 'code': 1003}, 'wind_mph': 4.0, 'wind_kph': 6.5, 'wind_degree': 243, 'wind_dir': 'WSW', 'pressure_mb': 1011.0, 'pressure_in': 29.86, 'precip_mm': 0.0, 'precip_in': 0.0, 'humidity': 87, 'cloud': 75, 'feelslike_c': 17.8, 'feelslike_f': 64.0, 'windchill_c': 15.9, 'windchill_f': 60.6, 'heatindex_c': 15.9, 'heatindex_f': 60.6, 'dewpoint_c': 15.3, 'dewpoint_f': 59.5, 'vis_km': 16.0, 'vis_miles': 9.0, 'uv': 0.0, 'gust_mph': 6.1, 'gust_kph': 9.9}}\", 'score': 0.9838344, 'raw_content': None}, {'url': 'https://weathershogun.com/weather/usa/ca/san-francisco/480/september/2025-09-10', 'title': 'Wednesday, September 10, 2025. San Francisco, CA - Weather ...', 'content': '6 hours ago·San Francisco, California Weather: Wednesday, September 10, 2025. Cloudy weather, overcast skies with clouds. Day 72°. Night 59°.', 'score': 0.9344013, 'raw_content': None}], 'response_time': 0.83, 'request_id': 'd265d534-20ed-4fa2-b3ab-72bf40630e1c'}\n"
     ]
    }
   ],
   "source": [
    "from langchain_tavily import TavilySearch\n",
    "\n",
    "search = TavilySearch(max_results=2)\n",
    "search_results = search.invoke(\"What is the weather in SF\")\n",
    "print(search_results)\n",
    "# If we want, we can create other tools.\n",
    "# Once we have all the tools we want, we can put them in a list that we will reference later.\n",
    "tools = [search]"
   ]
  },
  {
   "cell_type": "markdown",
   "id": "4b01acf3",
   "metadata": {},
   "source": [
    "## Using a LLM"
   ]
  },
  {
   "cell_type": "code",
   "execution_count": 4,
   "id": "072b6ef2",
   "metadata": {},
   "outputs": [],
   "source": [
    "import getpass\n",
    "import os\n",
    "\n",
    "if not os.environ.get(\"OPENAI_API_KEY\"):\n",
    "  os.environ[\"OPENAI_API_KEY\"] = getpass.getpass(\"Enter API key for OpenAI: \")\n",
    "\n",
    "from langchain.chat_models import init_chat_model\n",
    "\n",
    "model = init_chat_model(\"gpt-4.1\", model_provider=\"openai\")"
   ]
  },
  {
   "cell_type": "markdown",
   "id": "c7d5bc4f",
   "metadata": {},
   "source": [
    "### testing a query"
   ]
  },
  {
   "cell_type": "code",
   "execution_count": 5,
   "id": "14413493",
   "metadata": {},
   "outputs": [
    {
     "data": {
      "text/plain": [
       "'Hello! How can I help you today? 😊'"
      ]
     },
     "execution_count": 5,
     "metadata": {},
     "output_type": "execute_result"
    }
   ],
   "source": [
    "query = \"Hi!\"\n",
    "response = model.invoke([{\"role\": \"user\", \"content\": query}])\n",
    "response.text()"
   ]
  },
  {
   "cell_type": "markdown",
   "id": "938baa99",
   "metadata": {},
   "source": [
    "### adding tools"
   ]
  },
  {
   "cell_type": "code",
   "execution_count": 6,
   "id": "f57f3822",
   "metadata": {},
   "outputs": [],
   "source": [
    "model_with_tools = model.bind_tools(tools)"
   ]
  },
  {
   "cell_type": "code",
   "execution_count": 7,
   "id": "d774061f",
   "metadata": {},
   "outputs": [
    {
     "name": "stdout",
     "output_type": "stream",
     "text": [
      "Message content: Hello! How can I help you today?\n",
      "\n",
      "Tool calls: []\n"
     ]
    }
   ],
   "source": [
    "query = \"Hi!\"\n",
    "response = model_with_tools.invoke([{\"role\": \"user\", \"content\": query}])\n",
    "\n",
    "print(f\"Message content: {response.text()}\\n\")\n",
    "print(f\"Tool calls: {response.tool_calls}\")"
   ]
  },
  {
   "cell_type": "code",
   "execution_count": 8,
   "id": "8687fa88",
   "metadata": {},
   "outputs": [
    {
     "name": "stdout",
     "output_type": "stream",
     "text": [
      "Message content: \n",
      "\n",
      "Tool calls: [{'name': 'tavily_search', 'args': {'query': 'current weather in San Francisco'}, 'id': 'call_sYg3o0h9sU8BF8YWZRDhCn2h', 'type': 'tool_call'}]\n"
     ]
    }
   ],
   "source": [
    "query = \"Search for the weather in SF\"\n",
    "response = model_with_tools.invoke([{\"role\": \"user\", \"content\": query}])\n",
    "\n",
    "print(f\"Message content: {response.text()}\\n\")\n",
    "print(f\"Tool calls: {response.tool_calls}\")"
   ]
  },
  {
   "cell_type": "code",
   "execution_count": 9,
   "id": "5963a4cf",
   "metadata": {},
   "outputs": [],
   "source": [
    "from langgraph.prebuilt import create_react_agent\n",
    "\n",
    "agent_executor = create_react_agent(model, tools)"
   ]
  },
  {
   "cell_type": "markdown",
   "id": "8d0fa7c9",
   "metadata": {},
   "source": [
    "### Run the Agent"
   ]
  },
  {
   "cell_type": "code",
   "execution_count": 10,
   "id": "79f71bc5",
   "metadata": {},
   "outputs": [
    {
     "name": "stdout",
     "output_type": "stream",
     "text": [
      "================================\u001b[1m Human Message \u001b[0m=================================\n",
      "\n",
      "Hi!\n",
      "==================================\u001b[1m Ai Message \u001b[0m==================================\n",
      "\n",
      "Hello! How can I help you today?\n"
     ]
    }
   ],
   "source": [
    "input_message = {\"role\": \"user\", \"content\": \"Hi!\"}\n",
    "response = agent_executor.invoke({\"messages\": [input_message]})\n",
    "\n",
    "for message in response[\"messages\"]:\n",
    "    message.pretty_print()"
   ]
  },
  {
   "cell_type": "code",
   "execution_count": 11,
   "id": "dec7c75f",
   "metadata": {},
   "outputs": [
    {
     "name": "stdout",
     "output_type": "stream",
     "text": [
      "================================\u001b[1m Human Message \u001b[0m=================================\n",
      "\n",
      "Search for the weather in SF\n",
      "==================================\u001b[1m Ai Message \u001b[0m==================================\n",
      "Tool Calls:\n",
      "  tavily_search (call_oWySBUfcCuvyy6IEqlef4mto)\n",
      " Call ID: call_oWySBUfcCuvyy6IEqlef4mto\n",
      "  Args:\n",
      "    query: current weather in San Francisco\n",
      "    search_depth: basic\n",
      "=================================\u001b[1m Tool Message \u001b[0m=================================\n",
      "Name: tavily_search\n",
      "\n",
      "{\"query\": \"current weather in San Francisco\", \"follow_up_questions\": null, \"answer\": null, \"images\": [], \"results\": [{\"title\": \"Weather in San Francisco\", \"url\": \"https://www.weatherapi.com/\", \"content\": \"{'location': {'name': 'San Francisco', 'region': 'California', 'country': 'United States of America', 'lat': 37.775, 'lon': -122.4183, 'tz_id': 'America/Los_Angeles', 'localtime_epoch': 1757511417, 'localtime': '2025-09-10 06:36'}, 'current': {'last_updated_epoch': 1757511000, 'last_updated': '2025-09-10 06:30', 'temp_c': 17.8, 'temp_f': 64.0, 'is_day': 0, 'condition': {'text': 'Partly cloudy', 'icon': '//cdn.weatherapi.com/weather/64x64/night/116.png', 'code': 1003}, 'wind_mph': 3.6, 'wind_kph': 5.8, 'wind_degree': 235, 'wind_dir': 'SW', 'pressure_mb': 1011.0, 'pressure_in': 29.86, 'precip_mm': 0.0, 'precip_in': 0.0, 'humidity': 87, 'cloud': 75, 'feelslike_c': 17.8, 'feelslike_f': 64.0, 'windchill_c': 16.0, 'windchill_f': 60.8, 'heatindex_c': 16.0, 'heatindex_f': 60.8, 'dewpoint_c': 15.6, 'dewpoint_f': 60.1, 'vis_km': 16.0, 'vis_miles': 9.0, 'uv': 0.0, 'gust_mph': 5.4, 'gust_kph': 8.7}}\", \"score\": 0.9563546, \"raw_content\": null}, {\"url\": \"https://weathershogun.com/weather/usa/ca/san-francisco/480/september/2025-09-10\", \"title\": \"Wednesday, September 10, 2025. San Francisco, CA - Weather ...\", \"content\": \"7 hours ago·San Francisco, California Weather: Wednesday, September 10, 2025. Cloudy weather, overcast skies with clouds. Day 72°. Night 59°.\", \"score\": 0.93425745, \"raw_content\": null}], \"response_time\": 1.48, \"request_id\": \"94916f86-650e-4027-8874-522504a7982d\"}\n",
      "==================================\u001b[1m Ai Message \u001b[0m==================================\n",
      "\n",
      "Currently in San Francisco, the weather is partly cloudy with a temperature of about 64°F (18°C). Winds are light, coming from the southwest at 3.6 mph, and humidity is around 87%. There is no precipitation at the moment.\n",
      "\n",
      "For more details, you can visit a weather provider like WeatherAPI.\n",
      "\n",
      "Let me know if you’d like an hourly forecast or additional details!\n"
     ]
    }
   ],
   "source": [
    "input_message = {\"role\": \"user\", \"content\": \"Search for the weather in SF\"}\n",
    "response = agent_executor.invoke({\"messages\": [input_message]})\n",
    "\n",
    "for message in response[\"messages\"]:\n",
    "    message.pretty_print()"
   ]
  },
  {
   "cell_type": "code",
   "execution_count": 12,
   "id": "93e646d4",
   "metadata": {},
   "outputs": [
    {
     "name": "stdout",
     "output_type": "stream",
     "text": [
      "================================\u001b[1m Human Message \u001b[0m=================================\n",
      "\n",
      "Search for the weather in SF\n",
      "==================================\u001b[1m Ai Message \u001b[0m==================================\n",
      "Tool Calls:\n",
      "  tavily_search (call_pwxLhn4ahap6opZF9J5ch2gL)\n",
      " Call ID: call_pwxLhn4ahap6opZF9J5ch2gL\n",
      "  Args:\n",
      "    query: current weather in San Francisco\n",
      "    search_depth: basic\n",
      "=================================\u001b[1m Tool Message \u001b[0m=================================\n",
      "Name: tavily_search\n",
      "\n",
      "{\"query\": \"current weather in San Francisco\", \"follow_up_questions\": null, \"answer\": null, \"images\": [], \"results\": [{\"title\": \"Weather in San Francisco\", \"url\": \"https://www.weatherapi.com/\", \"content\": \"{'location': {'name': 'San Francisco', 'region': 'California', 'country': 'United States of America', 'lat': 37.775, 'lon': -122.4183, 'tz_id': 'America/Los_Angeles', 'localtime_epoch': 1757511417, 'localtime': '2025-09-10 06:36'}, 'current': {'last_updated_epoch': 1757511000, 'last_updated': '2025-09-10 06:30', 'temp_c': 17.8, 'temp_f': 64.0, 'is_day': 0, 'condition': {'text': 'Partly cloudy', 'icon': '//cdn.weatherapi.com/weather/64x64/night/116.png', 'code': 1003}, 'wind_mph': 3.6, 'wind_kph': 5.8, 'wind_degree': 235, 'wind_dir': 'SW', 'pressure_mb': 1011.0, 'pressure_in': 29.86, 'precip_mm': 0.0, 'precip_in': 0.0, 'humidity': 87, 'cloud': 75, 'feelslike_c': 17.8, 'feelslike_f': 64.0, 'windchill_c': 16.0, 'windchill_f': 60.8, 'heatindex_c': 16.0, 'heatindex_f': 60.8, 'dewpoint_c': 15.6, 'dewpoint_f': 60.1, 'vis_km': 16.0, 'vis_miles': 9.0, 'uv': 0.0, 'gust_mph': 5.4, 'gust_kph': 8.7}}\", \"score\": 0.7851072, \"raw_content\": null}, {\"url\": \"https://world-weather.info/forecast/usa/san_francisco/october-2025/\", \"title\": \"Weather in San Francisco in October 2025 (California)\", \"content\": \"Detailed ⚡ San Francisco Weather Forecast for October 2025 – day/night 🌡️ temperatures, precipitations – World-Weather.info.\", \"score\": 0.7823471, \"raw_content\": null}], \"response_time\": 2.27, \"request_id\": \"37067ccb-897e-4137-b65e-0cb67d47edd7\"}\n",
      "==================================\u001b[1m Ai Message \u001b[0m==================================\n",
      "\n",
      "The current weather in San Francisco is partly cloudy with a temperature of about 17.8°C (64°F). Humidity is at 87%, and there is a light southwest wind at 3.6 mph (5.8 kph). No precipitation has been reported. \n",
      "\n",
      "For detailed and updated information, you can check WeatherAPI.\n"
     ]
    }
   ],
   "source": [
    "for step in agent_executor.stream({\"messages\": [input_message]}, stream_mode=\"values\"):\n",
    "    step[\"messages\"][-1].pretty_print()"
   ]
  },
  {
   "cell_type": "code",
   "execution_count": 13,
   "id": "63f07532",
   "metadata": {},
   "outputs": [
    {
     "name": "stdout",
     "output_type": "stream",
     "text": [
      "Currently|,| in| San| Francisco|,| the| weather| is| partly| cloudy| with| a| temperature| of| about| |64|°F| (|18|°C|).| Hum|idity| is| high| at| |87|%,| and| there| is| a| light| southwest| wind| at| around| |3|.|6| mph|.| No| precipitation| is| reported|.\n",
      "\n",
      "|For| updates| or| a| detailed| forecast|,| you| can| visit| a| weather| site| like| Weather|API|.|"
     ]
    }
   ],
   "source": [
    "for step, metadata in agent_executor.stream(\n",
    "    {\"messages\": [input_message]}, stream_mode=\"messages\"\n",
    "):\n",
    "    if metadata[\"langgraph_node\"] == \"agent\" and (text := step.text()):\n",
    "        print(text, end=\"|\")"
   ]
  },
  {
   "cell_type": "markdown",
   "id": "c00e2968",
   "metadata": {},
   "source": [
    "### adding memory"
   ]
  },
  {
   "cell_type": "code",
   "execution_count": 14,
   "id": "08090095",
   "metadata": {},
   "outputs": [],
   "source": [
    "from langgraph.checkpoint.memory import MemorySaver\n",
    "\n",
    "memory = MemorySaver()"
   ]
  },
  {
   "cell_type": "code",
   "execution_count": 15,
   "id": "c47cb665",
   "metadata": {},
   "outputs": [
    {
     "name": "stdout",
     "output_type": "stream",
     "text": [
      "================================\u001b[1m Human Message \u001b[0m=================================\n",
      "\n",
      "Hi, I'm Bob!\n",
      "==================================\u001b[1m Ai Message \u001b[0m==================================\n",
      "\n",
      "Hello, Bob! How can I assist you today?\n"
     ]
    }
   ],
   "source": [
    "agent_executor = create_react_agent(model, tools, checkpointer=memory)\n",
    "\n",
    "config = {\"configurable\": {\"thread_id\": \"abc123\"}}\n",
    "\n",
    "\n",
    "input_message = {\"role\": \"user\", \"content\": \"Hi, I'm Bob!\"}\n",
    "for step in agent_executor.stream(\n",
    "    {\"messages\": [input_message]}, config, stream_mode=\"values\"\n",
    "):\n",
    "    step[\"messages\"][-1].pretty_print()"
   ]
  },
  {
   "cell_type": "code",
   "execution_count": 16,
   "id": "dfc53cee",
   "metadata": {},
   "outputs": [
    {
     "name": "stdout",
     "output_type": "stream",
     "text": [
      "================================\u001b[1m Human Message \u001b[0m=================================\n",
      "\n",
      "What's my name?\n",
      "==================================\u001b[1m Ai Message \u001b[0m==================================\n",
      "\n",
      "Your name is Bob! How can I help you today?\n"
     ]
    }
   ],
   "source": [
    "input_message = {\"role\": \"user\", \"content\": \"What's my name?\"}\n",
    "for step in agent_executor.stream(\n",
    "    {\"messages\": [input_message]}, config, stream_mode=\"values\"\n",
    "):\n",
    "    step[\"messages\"][-1].pretty_print()"
   ]
  },
  {
   "cell_type": "code",
   "execution_count": 17,
   "id": "67af9eab",
   "metadata": {},
   "outputs": [
    {
     "name": "stdout",
     "output_type": "stream",
     "text": [
      "================================\u001b[1m Human Message \u001b[0m=================================\n",
      "\n",
      "What's my name?\n",
      "==================================\u001b[1m Ai Message \u001b[0m==================================\n",
      "\n",
      "You haven’t told me your name yet! If you’d like, please share your name and I’ll remember it for our conversation.\n"
     ]
    }
   ],
   "source": [
    "config = {\"configurable\": {\"thread_id\": \"xyz123\"}}\n",
    "\n",
    "input_message = {\"role\": \"user\", \"content\": \"What's my name?\"}\n",
    "for step in agent_executor.stream(\n",
    "    {\"messages\": [input_message]}, config, stream_mode=\"values\"\n",
    "):\n",
    "    step[\"messages\"][-1].pretty_print()"
   ]
  }
 ],
 "metadata": {
  "kernelspec": {
   "display_name": ".venv",
   "language": "python",
   "name": "python3"
  },
  "language_info": {
   "codemirror_mode": {
    "name": "ipython",
    "version": 3
   },
   "file_extension": ".py",
   "mimetype": "text/x-python",
   "name": "python",
   "nbconvert_exporter": "python",
   "pygments_lexer": "ipython3",
   "version": "3.12.11"
  }
 },
 "nbformat": 4,
 "nbformat_minor": 5
}
